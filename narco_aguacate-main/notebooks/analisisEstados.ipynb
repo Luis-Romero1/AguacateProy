{
  "nbformat": 4,
  "nbformat_minor": 0,
  "metadata": {
    "colab": {
      "name": "analisisEstados.ipynb",
      "provenance": [],
      "include_colab_link": true
    },
    "kernelspec": {
      "name": "python3",
      "display_name": "Python 3"
    }
  },
  "cells": [
    {
      "cell_type": "markdown",
      "metadata": {
        "id": "view-in-github",
        "colab_type": "text"
      },
      "source": [
        "<a href=\"https://colab.research.google.com/github/mnaR99/narco_aguacate/blob/main/notebooks/analisisEstados.ipynb\" target=\"_parent\"><img src=\"https://colab.research.google.com/assets/colab-badge.svg\" alt=\"Open In Colab\"/></a>"
      ]
    },
    {
      "cell_type": "markdown",
      "metadata": {
        "id": "VMAiXJCuwiCn"
      },
      "source": [
        "# Cuna de la producción del aguacate "
      ]
    },
    {
      "cell_type": "markdown",
      "metadata": {
        "id": "zzIBl0q7xYTV"
      },
      "source": [
        "<h4>¿Cuál es el estado en México con mayor producción de aguacate?</h4>\r\n",
        "\r\n",
        "Gracias a los datos que se limpiaron y almacenaron en 'dfMunicipios.csv', podemos hacer un análisis de cual estado de la República Mexicana que tiene la mayor cantidad de volumen y valor de producción de aguacate. Se dice que Michoacán es el **líder mundial en la producción de este fruto**. ¿Te has preguntado si esto trae alguna repercusión tanto econológica como social? \r\n",
        "\r\n",
        "\r\n",
        "---\r\n"
      ]
    },
    {
      "cell_type": "markdown",
      "metadata": {
        "id": "P4RFEvJs07kY"
      },
      "source": [
        "Primero importemos las librerias necesarias."
      ]
    },
    {
      "cell_type": "code",
      "metadata": {
        "id": "sa2e3D5wj-pH"
      },
      "source": [
        "import pandas as pd\r\n",
        "import numpy as np"
      ],
      "execution_count": null,
      "outputs": []
    },
    {
      "cell_type": "markdown",
      "metadata": {
        "id": "FjsmZjE61B7Q"
      },
      "source": [
        "Leemos los '.csv' que se creó previamente y fue almacenado en el repositorio."
      ]
    },
    {
      "cell_type": "code",
      "metadata": {
        "id": "XlbGm5MrlKta",
        "colab": {
          "base_uri": "https://localhost:8080/",
          "height": 356
        },
        "outputId": "88c081c7-9660-4072-d063-24d40d6270ee"
      },
      "source": [
        "df = pd.read_csv(\"https://raw.githubusercontent.com/mnaR99/narco_aguacate/main/data/processed/dfMunicipios0319.csv\")\r\n",
        "df.head(5)"
      ],
      "execution_count": null,
      "outputs": [
        {
          "output_type": "execute_result",
          "data": {
            "text/html": [
              "<div>\n",
              "<style scoped>\n",
              "    .dataframe tbody tr th:only-of-type {\n",
              "        vertical-align: middle;\n",
              "    }\n",
              "\n",
              "    .dataframe tbody tr th {\n",
              "        vertical-align: top;\n",
              "    }\n",
              "\n",
              "    .dataframe thead th {\n",
              "        text-align: right;\n",
              "    }\n",
              "</style>\n",
              "<table border=\"1\" class=\"dataframe\">\n",
              "  <thead>\n",
              "    <tr style=\"text-align: right;\">\n",
              "      <th></th>\n",
              "      <th>Anio</th>\n",
              "      <th>Idestado</th>\n",
              "      <th>Nomestado</th>\n",
              "      <th>Idddr</th>\n",
              "      <th>Nomddr</th>\n",
              "      <th>Idcader</th>\n",
              "      <th>Nomcader</th>\n",
              "      <th>Idmunicipio</th>\n",
              "      <th>Nommunicipio</th>\n",
              "      <th>Sembrada</th>\n",
              "      <th>Cosechada</th>\n",
              "      <th>Siniestrada</th>\n",
              "      <th>Volumenproduccion</th>\n",
              "      <th>Rendimiento</th>\n",
              "      <th>Precio</th>\n",
              "      <th>Valorproduccion</th>\n",
              "    </tr>\n",
              "  </thead>\n",
              "  <tbody>\n",
              "    <tr>\n",
              "      <th>0</th>\n",
              "      <td>2003</td>\n",
              "      <td>1</td>\n",
              "      <td>Aguascalientes</td>\n",
              "      <td>1</td>\n",
              "      <td>Aguascalientes</td>\n",
              "      <td>2</td>\n",
              "      <td>Calvillo</td>\n",
              "      <td>3</td>\n",
              "      <td>Calvillo</td>\n",
              "      <td>7.0</td>\n",
              "      <td>7.0</td>\n",
              "      <td>0.0</td>\n",
              "      <td>19.0</td>\n",
              "      <td>2.71</td>\n",
              "      <td>5421.05</td>\n",
              "      <td>102999.95</td>\n",
              "    </tr>\n",
              "    <tr>\n",
              "      <th>1</th>\n",
              "      <td>2003</td>\n",
              "      <td>7</td>\n",
              "      <td>Chiapas</td>\n",
              "      <td>19</td>\n",
              "      <td>San Cristóbal de las Casas</td>\n",
              "      <td>1</td>\n",
              "      <td>San Cristóbal de Las Casas</td>\n",
              "      <td>7</td>\n",
              "      <td>Amatenango del Valle</td>\n",
              "      <td>4.0</td>\n",
              "      <td>4.0</td>\n",
              "      <td>0.0</td>\n",
              "      <td>12.0</td>\n",
              "      <td>3.00</td>\n",
              "      <td>2500.00</td>\n",
              "      <td>30000.00</td>\n",
              "    </tr>\n",
              "    <tr>\n",
              "      <th>2</th>\n",
              "      <td>2003</td>\n",
              "      <td>20</td>\n",
              "      <td>Oaxaca</td>\n",
              "      <td>109</td>\n",
              "      <td>Cañada</td>\n",
              "      <td>2</td>\n",
              "      <td>Cuicatlán</td>\n",
              "      <td>177</td>\n",
              "      <td>San Juan Bautista Cuicatlán</td>\n",
              "      <td>16.0</td>\n",
              "      <td>16.0</td>\n",
              "      <td>0.0</td>\n",
              "      <td>96.0</td>\n",
              "      <td>6.00</td>\n",
              "      <td>5245.00</td>\n",
              "      <td>503520.00</td>\n",
              "    </tr>\n",
              "    <tr>\n",
              "      <th>3</th>\n",
              "      <td>2003</td>\n",
              "      <td>20</td>\n",
              "      <td>Oaxaca</td>\n",
              "      <td>109</td>\n",
              "      <td>Cañada</td>\n",
              "      <td>2</td>\n",
              "      <td>Cuicatlán</td>\n",
              "      <td>24</td>\n",
              "      <td>Cuyamecalco Villa de Zaragoza</td>\n",
              "      <td>10.0</td>\n",
              "      <td>10.0</td>\n",
              "      <td>0.0</td>\n",
              "      <td>35.0</td>\n",
              "      <td>3.50</td>\n",
              "      <td>2650.00</td>\n",
              "      <td>92750.00</td>\n",
              "    </tr>\n",
              "    <tr>\n",
              "      <th>4</th>\n",
              "      <td>2003</td>\n",
              "      <td>20</td>\n",
              "      <td>Oaxaca</td>\n",
              "      <td>109</td>\n",
              "      <td>Cañada</td>\n",
              "      <td>2</td>\n",
              "      <td>Cuicatlán</td>\n",
              "      <td>19</td>\n",
              "      <td>Concepción Pápalo</td>\n",
              "      <td>9.0</td>\n",
              "      <td>9.0</td>\n",
              "      <td>0.0</td>\n",
              "      <td>31.5</td>\n",
              "      <td>3.50</td>\n",
              "      <td>2700.00</td>\n",
              "      <td>85050.00</td>\n",
              "    </tr>\n",
              "  </tbody>\n",
              "</table>\n",
              "</div>"
            ],
            "text/plain": [
              "   Anio  Idestado       Nomestado  ...  Rendimiento   Precio  Valorproduccion\n",
              "0  2003         1  Aguascalientes  ...         2.71  5421.05        102999.95\n",
              "1  2003         7         Chiapas  ...         3.00  2500.00         30000.00\n",
              "2  2003        20          Oaxaca  ...         6.00  5245.00        503520.00\n",
              "3  2003        20          Oaxaca  ...         3.50  2650.00         92750.00\n",
              "4  2003        20          Oaxaca  ...         3.50  2700.00         85050.00\n",
              "\n",
              "[5 rows x 16 columns]"
            ]
          },
          "metadata": {
            "tags": []
          },
          "execution_count": 65
        }
      ]
    },
    {
      "cell_type": "markdown",
      "metadata": {
        "id": "XMsCqhtlFQ7s"
      },
      "source": [
        "# Determinar estado con mayor producción"
      ]
    },
    {
      "cell_type": "markdown",
      "metadata": {
        "id": "fYWNlHu8l6sQ"
      },
      "source": [
        "Agrupación por estados durante los años 2003-2019 para visualizar su actividad en relación a este cultivo."
      ]
    },
    {
      "cell_type": "code",
      "metadata": {
        "id": "uhHAG5QslTF_",
        "colab": {
          "base_uri": "https://localhost:8080/",
          "height": 138
        },
        "outputId": "fc8828ca-0717-435f-b15a-a3b52332d99c"
      },
      "source": [
        "dfEst = df.groupby(['Anio','Idestado','Nomestado'], as_index=False).agg({\n",
        "    \"Sembrada\": \"sum\",\n",
        "    \"Cosechada\": \"sum\",\n",
        "    \"Siniestrada\": \"sum\",\n",
        "    \"Volumenproduccion\": \"sum\",\n",
        "    \"Rendimiento\": \"sum\",\n",
        "    \"Precio\": \"sum\",\n",
        "    \"Valorproduccion\": \"sum\"\n",
        "})\n",
        "dfEst.head(3)"
      ],
      "execution_count": null,
      "outputs": [
        {
          "output_type": "execute_result",
          "data": {
            "text/html": [
              "<div>\n",
              "<style scoped>\n",
              "    .dataframe tbody tr th:only-of-type {\n",
              "        vertical-align: middle;\n",
              "    }\n",
              "\n",
              "    .dataframe tbody tr th {\n",
              "        vertical-align: top;\n",
              "    }\n",
              "\n",
              "    .dataframe thead th {\n",
              "        text-align: right;\n",
              "    }\n",
              "</style>\n",
              "<table border=\"1\" class=\"dataframe\">\n",
              "  <thead>\n",
              "    <tr style=\"text-align: right;\">\n",
              "      <th></th>\n",
              "      <th>Anio</th>\n",
              "      <th>Idestado</th>\n",
              "      <th>Nomestado</th>\n",
              "      <th>Sembrada</th>\n",
              "      <th>Cosechada</th>\n",
              "      <th>Siniestrada</th>\n",
              "      <th>Volumenproduccion</th>\n",
              "      <th>Rendimiento</th>\n",
              "      <th>Precio</th>\n",
              "      <th>Valorproduccion</th>\n",
              "    </tr>\n",
              "  </thead>\n",
              "  <tbody>\n",
              "    <tr>\n",
              "      <th>0</th>\n",
              "      <td>2003</td>\n",
              "      <td>1</td>\n",
              "      <td>Aguascalientes</td>\n",
              "      <td>7.0</td>\n",
              "      <td>7.0</td>\n",
              "      <td>0.0</td>\n",
              "      <td>19.00</td>\n",
              "      <td>2.71</td>\n",
              "      <td>5421.05</td>\n",
              "      <td>102999.95</td>\n",
              "    </tr>\n",
              "    <tr>\n",
              "      <th>1</th>\n",
              "      <td>2003</td>\n",
              "      <td>2</td>\n",
              "      <td>Baja California</td>\n",
              "      <td>45.0</td>\n",
              "      <td>11.0</td>\n",
              "      <td>0.0</td>\n",
              "      <td>46.53</td>\n",
              "      <td>4.23</td>\n",
              "      <td>6500.00</td>\n",
              "      <td>302445.00</td>\n",
              "    </tr>\n",
              "    <tr>\n",
              "      <th>2</th>\n",
              "      <td>2003</td>\n",
              "      <td>3</td>\n",
              "      <td>Baja California Sur</td>\n",
              "      <td>151.0</td>\n",
              "      <td>56.0</td>\n",
              "      <td>0.0</td>\n",
              "      <td>100.20</td>\n",
              "      <td>5.70</td>\n",
              "      <td>13500.00</td>\n",
              "      <td>678900.00</td>\n",
              "    </tr>\n",
              "  </tbody>\n",
              "</table>\n",
              "</div>"
            ],
            "text/plain": [
              "   Anio  Idestado            Nomestado  ...  Rendimiento    Precio  Valorproduccion\n",
              "0  2003         1       Aguascalientes  ...         2.71   5421.05        102999.95\n",
              "1  2003         2      Baja California  ...         4.23   6500.00        302445.00\n",
              "2  2003         3  Baja California Sur  ...         5.70  13500.00        678900.00\n",
              "\n",
              "[3 rows x 10 columns]"
            ]
          },
          "metadata": {
            "tags": []
          },
          "execution_count": 66
        }
      ]
    },
    {
      "cell_type": "markdown",
      "metadata": {
        "id": "laXqVStLon2H"
      },
      "source": [
        "Vamos a ver el promedio del volumen de producción expresado en millones de toneladas por cada uno de los estados en un año. Como se puede observar la producción de Michoacán está por lo cielos, ¡alrededor de un millón de toneladas de aguacates por año!"
      ]
    },
    {
      "cell_type": "code",
      "metadata": {
        "colab": {
          "base_uri": "https://localhost:8080/",
          "height": 336
        },
        "id": "ehU5F59YWaZC",
        "outputId": "c6ab6d5c-b264-41be-818e-b68d48fed2f9"
      },
      "source": [
        "def visualizar_produccion(df):\r\n",
        "    import seaborn as sns\r\n",
        "    import matplotlib.pyplot as plt\r\n",
        "    \r\n",
        "    sizes = df[['Volumenproduccion', 'Nomestado']].copy()\r\n",
        "    sizes.sort_values('Nomestado', ascending=True, inplace=True)\r\n",
        "    sns.barplot(sizes['Volumenproduccion'], sizes['Nomestado'])\r\n",
        "    plt.xlabel(\"Volumen de produccion (toneladas)\")\r\n",
        "    plt.ylabel(\"Nombre de estado\")\r\n",
        "\r\n",
        "visualizar_produccion(dfEst)"
      ],
      "execution_count": null,
      "outputs": [
        {
          "output_type": "stream",
          "text": [
            "/usr/local/lib/python3.7/dist-packages/seaborn/_decorators.py:43: FutureWarning: Pass the following variables as keyword args: x, y. From version 0.12, the only valid positional argument will be `data`, and passing other arguments without an explicit keyword will result in an error or misinterpretation.\n",
            "  FutureWarning\n"
          ],
          "name": "stderr"
        },
        {
          "output_type": "display_data",
          "data": {
            "image/png": "[encoded data removed]",
            "text/plain": [
              "<Figure size 432x288 with 1 Axes>"
            ]
          },
          "metadata": {
            "tags": [],
            "needs_background": "light"
          }
        }
      ]
    },
    {
      "cell_type": "markdown",
      "metadata": {
        "id": "GOxCC-e9pgBK"
      },
      "source": [
        "Veamos que estado destaca en cada una de las columnas en el último año de registro 2019."
      ]
    },
    {
      "cell_type": "code",
      "metadata": {
        "colab": {
          "base_uri": "https://localhost:8080/"
        },
        "id": "qBNL2dqGxpri",
        "outputId": "511b83a9-4134-45c8-e2be-8f9d4ee00f15"
      },
      "source": [
        "df19 = dfEst[dfEst['Anio'] == 2019]\r\n",
        "def maximos(df,cad):\r\n",
        "\r\n",
        "   max = df[cad].max()\r\n",
        "   est = df[df[cad] == max]\r\n",
        "   print(f'El estado de mayor {cad}: \\n\\n {est.reset_index(drop=True)}')\r\n",
        "  \r\n",
        "\r\n",
        "print('********************** Resultados ************************* \\n')\r\n",
        "maximos(df19, 'Sembrada')\r\n",
        "maximos(df19, 'Cosechada')\r\n",
        "maximos(df19, 'Siniestrada')\r\n",
        "maximos(df19, 'Volumenproduccion')\r\n",
        "maximos(df19, 'Rendimiento')\r\n",
        "maximos(df19, 'Precio')\r\n",
        "maximos(df19, 'Valorproduccion')"
      ],
      "execution_count": null,
      "outputs": [
        {
          "output_type": "stream",
          "text": [
            "********************** Resultados ************************* \n",
            "\n",
            "El estado de mayor Sembrada: \n",
            "\n",
            "    Anio  Idestado  Nomestado  ...  Rendimiento      Precio  Valorproduccion\n",
            "0  2019        16  Michoacán  ...       922.71  2015689.83     3.911687e+10\n",
            "\n",
            "[1 rows x 10 columns]\n",
            "El estado de mayor Cosechada: \n",
            "\n",
            "    Anio  Idestado  Nomestado  ...  Rendimiento      Precio  Valorproduccion\n",
            "0  2019        16  Michoacán  ...       922.71  2015689.83     3.911687e+10\n",
            "\n",
            "[1 rows x 10 columns]\n",
            "El estado de mayor Siniestrada: \n",
            "\n",
            "    Anio  Idestado        Nomestado  ...  Rendimiento    Precio  Valorproduccion\n",
            "0  2019        24  San Luis Potosí  ...        30.68  73906.89       2771283.57\n",
            "\n",
            "[1 rows x 10 columns]\n",
            "El estado de mayor Volumenproduccion: \n",
            "\n",
            "    Anio  Idestado  Nomestado  ...  Rendimiento      Precio  Valorproduccion\n",
            "0  2019        16  Michoacán  ...       922.71  2015689.83     3.911687e+10\n",
            "\n",
            "[1 rows x 10 columns]\n",
            "El estado de mayor Rendimiento: \n",
            "\n",
            "    Anio  Idestado Nomestado  ...  Rendimiento      Precio  Valorproduccion\n",
            "0  2019        14   Jalisco  ...      1046.67  1891578.25     4.712378e+09\n",
            "\n",
            "[1 rows x 10 columns]\n",
            "El estado de mayor Precio: \n",
            "\n",
            "    Anio  Idestado Nomestado  ...  Rendimiento      Precio  Valorproduccion\n",
            "0  2019        20    Oaxaca  ...       769.21  2963861.38     2.109556e+08\n",
            "\n",
            "[1 rows x 10 columns]\n",
            "El estado de mayor Valorproduccion: \n",
            "\n",
            "    Anio  Idestado  Nomestado  ...  Rendimiento      Precio  Valorproduccion\n",
            "0  2019        16  Michoacán  ...       922.71  2015689.83     3.911687e+10\n",
            "\n",
            "[1 rows x 10 columns]\n"
          ],
          "name": "stdout"
        }
      ]
    },
    {
      "cell_type": "markdown",
      "metadata": {
        "id": "4xtEGesdEOzu"
      },
      "source": [
        "Resumen de los resultados:\r\n",
        "*   Michoacán tiene la mayor siembra, cosecha, volumen de producción y valor por producción.\r\n",
        "*   San Luis Potosí tiene la mayor cantidad de cultivo siniestrado (dañado).\r\n",
        "*   Jalisco tiene el mayor rendimiento.\r\n",
        "*   Oaxaca tiene el mayor precio por el cultivo.\r\n",
        "\r\n",
        "\r\n",
        "---\r\n",
        "\r\n",
        "\r\n",
        "Claramente Michoacán tiene la cabecera en producción de aguacate en todo México aunque ¿no creen que es algo raro que a pesar de ello otros estados tengan mayores ganancias con tan poca producción?\r\n",
        "\r\n",
        "En los últimos 5 años registrados, Michoacán sigue en la cabecera de producción a nivel nacional.\r\n"
      ]
    },
    {
      "cell_type": "code",
      "metadata": {
        "colab": {
          "base_uri": "https://localhost:8080/",
          "height": 198
        },
        "id": "Cqo7SJLRKFYl",
        "outputId": "57f807cd-1e1b-48b8-f656-7c0eac0a5fde"
      },
      "source": [
        "dfEst.sort_values('Volumenproduccion', ascending=False).head(5)"
      ],
      "execution_count": null,
      "outputs": [
        {
          "output_type": "execute_result",
          "data": {
            "text/html": [
              "<div>\n",
              "<style scoped>\n",
              "    .dataframe tbody tr th:only-of-type {\n",
              "        vertical-align: middle;\n",
              "    }\n",
              "\n",
              "    .dataframe tbody tr th {\n",
              "        vertical-align: top;\n",
              "    }\n",
              "\n",
              "    .dataframe thead th {\n",
              "        text-align: right;\n",
              "    }\n",
              "</style>\n",
              "<table border=\"1\" class=\"dataframe\">\n",
              "  <thead>\n",
              "    <tr style=\"text-align: right;\">\n",
              "      <th></th>\n",
              "      <th>Anio</th>\n",
              "      <th>Idestado</th>\n",
              "      <th>Nomestado</th>\n",
              "      <th>Sembrada</th>\n",
              "      <th>Cosechada</th>\n",
              "      <th>Siniestrada</th>\n",
              "      <th>Volumenproduccion</th>\n",
              "      <th>Rendimiento</th>\n",
              "      <th>Precio</th>\n",
              "      <th>Valorproduccion</th>\n",
              "    </tr>\n",
              "  </thead>\n",
              "  <tbody>\n",
              "    <tr>\n",
              "      <th>454</th>\n",
              "      <td>2019</td>\n",
              "      <td>16</td>\n",
              "      <td>Michoacán</td>\n",
              "      <td>167747.45</td>\n",
              "      <td>160206.42</td>\n",
              "      <td>0.0</td>\n",
              "      <td>1725225.79</td>\n",
              "      <td>922.71</td>\n",
              "      <td>2015689.83</td>\n",
              "      <td>3.911687e+10</td>\n",
              "    </tr>\n",
              "    <tr>\n",
              "      <th>427</th>\n",
              "      <td>2018</td>\n",
              "      <td>16</td>\n",
              "      <td>Michoacán</td>\n",
              "      <td>166603.84</td>\n",
              "      <td>152399.51</td>\n",
              "      <td>0.0</td>\n",
              "      <td>1674855.04</td>\n",
              "      <td>906.16</td>\n",
              "      <td>1721416.41</td>\n",
              "      <td>3.440518e+10</td>\n",
              "    </tr>\n",
              "    <tr>\n",
              "      <th>400</th>\n",
              "      <td>2017</td>\n",
              "      <td>16</td>\n",
              "      <td>Michoacán</td>\n",
              "      <td>158805.98</td>\n",
              "      <td>142052.03</td>\n",
              "      <td>0.0</td>\n",
              "      <td>1565895.76</td>\n",
              "      <td>890.20</td>\n",
              "      <td>1744951.69</td>\n",
              "      <td>3.282312e+10</td>\n",
              "    </tr>\n",
              "    <tr>\n",
              "      <th>372</th>\n",
              "      <td>2016</td>\n",
              "      <td>16</td>\n",
              "      <td>Michoacán</td>\n",
              "      <td>148423.53</td>\n",
              "      <td>136995.53</td>\n",
              "      <td>0.0</td>\n",
              "      <td>1477263.36</td>\n",
              "      <td>740.68</td>\n",
              "      <td>1231931.51</td>\n",
              "      <td>2.526096e+10</td>\n",
              "    </tr>\n",
              "    <tr>\n",
              "      <th>344</th>\n",
              "      <td>2015</td>\n",
              "      <td>16</td>\n",
              "      <td>Michoacán</td>\n",
              "      <td>134941.76</td>\n",
              "      <td>126468.91</td>\n",
              "      <td>0.0</td>\n",
              "      <td>1283313.29</td>\n",
              "      <td>657.90</td>\n",
              "      <td>930318.42</td>\n",
              "      <td>1.827268e+10</td>\n",
              "    </tr>\n",
              "  </tbody>\n",
              "</table>\n",
              "</div>"
            ],
            "text/plain": [
              "     Anio  Idestado  Nomestado  ...  Rendimiento      Precio  Valorproduccion\n",
              "454  2019        16  Michoacán  ...       922.71  2015689.83     3.911687e+10\n",
              "427  2018        16  Michoacán  ...       906.16  1721416.41     3.440518e+10\n",
              "400  2017        16  Michoacán  ...       890.20  1744951.69     3.282312e+10\n",
              "372  2016        16  Michoacán  ...       740.68  1231931.51     2.526096e+10\n",
              "344  2015        16  Michoacán  ...       657.90   930318.42     1.827268e+10\n",
              "\n",
              "[5 rows x 10 columns]"
            ]
          },
          "metadata": {
            "tags": []
          },
          "execution_count": 69
        }
      ]
    },
    {
      "cell_type": "markdown",
      "metadata": {
        "id": "eAq74mQ0vQZS"
      },
      "source": [
        "El porcentaje de produccion que toma cada uno de los estados en el último año registrado 2019"
      ]
    },
    {
      "cell_type": "code",
      "metadata": {
        "colab": {
          "base_uri": "https://localhost:8080/",
          "height": 335
        },
        "id": "AIsd87Zi1G4p",
        "outputId": "9c92770f-8882-4955-da32-e8413fc05bf6"
      },
      "source": [
        "df19por = pd.DataFrame(df19,columns=['Nomestado','Volumenproduccion','Porcentaje'])\r\n",
        "totalProduccion = df19['Volumenproduccion'].sum()\r\n",
        "\r\n",
        "def porcent(df, total):\r\n",
        "  import seaborn as sns\r\n",
        "  import matplotlib.pyplot as plt\r\n",
        "\r\n",
        "  x = len(df)\r\n",
        "  for x in [\"Porcentaje\"]:\r\n",
        "    df['Porcentaje'] = (df['Volumenproduccion']*100)/totalProduccion\r\n",
        "    \r\n",
        "  sizes = df[['Porcentaje', 'Nomestado']].copy()\r\n",
        "  sizes.sort_values('Nomestado', ascending=True, inplace=True)\r\n",
        "  sns.barplot(sizes['Porcentaje'], sizes['Nomestado'])\r\n",
        "  plt.xlabel(\"Porcentaje de Produccion\")\r\n",
        "  plt.ylabel(\"Nombre del estado\")\r\n",
        "\r\n",
        "porcent(df19por,totalProduccion)"
      ],
      "execution_count": null,
      "outputs": [
        {
          "output_type": "stream",
          "text": [
            "/usr/local/lib/python3.7/dist-packages/seaborn/_decorators.py:43: FutureWarning: Pass the following variables as keyword args: x, y. From version 0.12, the only valid positional argument will be `data`, and passing other arguments without an explicit keyword will result in an error or misinterpretation.\n",
            "  FutureWarning\n"
          ],
          "name": "stderr"
        },
        {
          "output_type": "display_data",
          "data": {
            "image/png": "[encoded data removed]",
            "text/plain": [
              "<Figure size 432x288 with 1 Axes>"
            ]
          },
          "metadata": {
            "tags": [],
            "needs_background": "light"
          }
        }
      ]
    },
    {
      "cell_type": "markdown",
      "metadata": {
        "id": "A7lvCOPVFixT"
      },
      "source": [
        "#*   Dataframe de Michoacan"
      ]
    },
    {
      "cell_type": "markdown",
      "metadata": {
        "id": "dR-aEqy6FuK3"
      },
      "source": [
        "Como pudimos observar, Michoacán es el líder en producción de aguacate, por lo tanto liberamos los datos para estudiarlos por cada uno de los municipios."
      ]
    },
    {
      "cell_type": "code",
      "metadata": {
        "colab": {
          "base_uri": "https://localhost:8080/",
          "height": 210
        },
        "id": "R9y_MI-UFtmk",
        "outputId": "dfb5ba09-cfca-48de-99f0-a746a06267de"
      },
      "source": [
        "dfMich = df[df[\"Nomestado\"] == \"Michoacán\"]\r\n",
        "dfMich.head(3)"
      ],
      "execution_count": null,
      "outputs": [
        {
          "output_type": "execute_result",
          "data": {
            "text/html": [
              "<div>\n",
              "<style scoped>\n",
              "    .dataframe tbody tr th:only-of-type {\n",
              "        vertical-align: middle;\n",
              "    }\n",
              "\n",
              "    .dataframe tbody tr th {\n",
              "        vertical-align: top;\n",
              "    }\n",
              "\n",
              "    .dataframe thead th {\n",
              "        text-align: right;\n",
              "    }\n",
              "</style>\n",
              "<table border=\"1\" class=\"dataframe\">\n",
              "  <thead>\n",
              "    <tr style=\"text-align: right;\">\n",
              "      <th></th>\n",
              "      <th>Anio</th>\n",
              "      <th>Idestado</th>\n",
              "      <th>Nomestado</th>\n",
              "      <th>Idddr</th>\n",
              "      <th>Nomddr</th>\n",
              "      <th>Idcader</th>\n",
              "      <th>Nomcader</th>\n",
              "      <th>Idmunicipio</th>\n",
              "      <th>Nommunicipio</th>\n",
              "      <th>Sembrada</th>\n",
              "      <th>Cosechada</th>\n",
              "      <th>Siniestrada</th>\n",
              "      <th>Volumenproduccion</th>\n",
              "      <th>Rendimiento</th>\n",
              "      <th>Precio</th>\n",
              "      <th>Valorproduccion</th>\n",
              "    </tr>\n",
              "  </thead>\n",
              "  <tbody>\n",
              "    <tr>\n",
              "      <th>362</th>\n",
              "      <td>2003</td>\n",
              "      <td>16</td>\n",
              "      <td>Michoacán</td>\n",
              "      <td>90</td>\n",
              "      <td>Pátzcuaro</td>\n",
              "      <td>2</td>\n",
              "      <td>Villa Escalante</td>\n",
              "      <td>79</td>\n",
              "      <td>Salvador Escalante</td>\n",
              "      <td>3520.0</td>\n",
              "      <td>3520.0</td>\n",
              "      <td>0.0</td>\n",
              "      <td>45056.0</td>\n",
              "      <td>12.8</td>\n",
              "      <td>4930.0</td>\n",
              "      <td>222126080.0</td>\n",
              "    </tr>\n",
              "    <tr>\n",
              "      <th>363</th>\n",
              "      <td>2003</td>\n",
              "      <td>16</td>\n",
              "      <td>Michoacán</td>\n",
              "      <td>90</td>\n",
              "      <td>Pátzcuaro</td>\n",
              "      <td>2</td>\n",
              "      <td>Villa Escalante</td>\n",
              "      <td>9</td>\n",
              "      <td>Ario</td>\n",
              "      <td>3380.0</td>\n",
              "      <td>3380.0</td>\n",
              "      <td>0.0</td>\n",
              "      <td>22308.0</td>\n",
              "      <td>6.6</td>\n",
              "      <td>4900.0</td>\n",
              "      <td>109309200.0</td>\n",
              "    </tr>\n",
              "    <tr>\n",
              "      <th>364</th>\n",
              "      <td>2003</td>\n",
              "      <td>16</td>\n",
              "      <td>Michoacán</td>\n",
              "      <td>90</td>\n",
              "      <td>Pátzcuaro</td>\n",
              "      <td>2</td>\n",
              "      <td>Villa Escalante</td>\n",
              "      <td>9</td>\n",
              "      <td>Ario</td>\n",
              "      <td>2262.0</td>\n",
              "      <td>2262.0</td>\n",
              "      <td>0.0</td>\n",
              "      <td>28720.0</td>\n",
              "      <td>12.7</td>\n",
              "      <td>5100.0</td>\n",
              "      <td>146472000.0</td>\n",
              "    </tr>\n",
              "  </tbody>\n",
              "</table>\n",
              "</div>"
            ],
            "text/plain": [
              "     Anio  Idestado  Nomestado  ...  Rendimiento  Precio  Valorproduccion\n",
              "362  2003        16  Michoacán  ...         12.8  4930.0      222126080.0\n",
              "363  2003        16  Michoacán  ...          6.6  4900.0      109309200.0\n",
              "364  2003        16  Michoacán  ...         12.7  5100.0      146472000.0\n",
              "\n",
              "[3 rows x 16 columns]"
            ]
          },
          "metadata": {
            "tags": []
          },
          "execution_count": 54
        }
      ]
    },
    {
      "cell_type": "markdown",
      "metadata": {
        "id": "s8S4jgXyGY8o"
      },
      "source": [
        "Quitamos la columna 'Nomestado' y 'Idestado', ya que ya sabemos que hablamos de Michoacán y no es necesario. Por último, reseteamos el index. "
      ]
    },
    {
      "cell_type": "code",
      "metadata": {
        "colab": {
          "base_uri": "https://localhost:8080/",
          "height": 210
        },
        "id": "TR97wGMvGlbW",
        "outputId": "6eaa7233-deb8-4f4c-c56f-ec1f16af029e"
      },
      "source": [
        "dfMich = dfMich.loc[:,['Anio', 'Idddr', 'Nomddr', 'Idcader','Nomcader', \r\n",
        "                        'Idmunicipio', 'Nommunicipio', 'Sembrada', 'Cosechada',\r\n",
        "                        'Siniestrada', 'Volumenproduccion', 'Rendimiento', \r\n",
        "                        'Precio', 'Valorproduccion']]\r\n",
        "dfMich.reset_index(drop=True).head(3)"
      ],
      "execution_count": null,
      "outputs": [
        {
          "output_type": "execute_result",
          "data": {
            "text/html": [
              "<div>\n",
              "<style scoped>\n",
              "    .dataframe tbody tr th:only-of-type {\n",
              "        vertical-align: middle;\n",
              "    }\n",
              "\n",
              "    .dataframe tbody tr th {\n",
              "        vertical-align: top;\n",
              "    }\n",
              "\n",
              "    .dataframe thead th {\n",
              "        text-align: right;\n",
              "    }\n",
              "</style>\n",
              "<table border=\"1\" class=\"dataframe\">\n",
              "  <thead>\n",
              "    <tr style=\"text-align: right;\">\n",
              "      <th></th>\n",
              "      <th>Anio</th>\n",
              "      <th>Idddr</th>\n",
              "      <th>Nomddr</th>\n",
              "      <th>Idcader</th>\n",
              "      <th>Nomcader</th>\n",
              "      <th>Idmunicipio</th>\n",
              "      <th>Nommunicipio</th>\n",
              "      <th>Sembrada</th>\n",
              "      <th>Cosechada</th>\n",
              "      <th>Siniestrada</th>\n",
              "      <th>Volumenproduccion</th>\n",
              "      <th>Rendimiento</th>\n",
              "      <th>Precio</th>\n",
              "      <th>Valorproduccion</th>\n",
              "    </tr>\n",
              "  </thead>\n",
              "  <tbody>\n",
              "    <tr>\n",
              "      <th>0</th>\n",
              "      <td>2003</td>\n",
              "      <td>90</td>\n",
              "      <td>Pátzcuaro</td>\n",
              "      <td>2</td>\n",
              "      <td>Villa Escalante</td>\n",
              "      <td>79</td>\n",
              "      <td>Salvador Escalante</td>\n",
              "      <td>3520.0</td>\n",
              "      <td>3520.0</td>\n",
              "      <td>0.0</td>\n",
              "      <td>45056.0</td>\n",
              "      <td>12.8</td>\n",
              "      <td>4930.0</td>\n",
              "      <td>222126080.0</td>\n",
              "    </tr>\n",
              "    <tr>\n",
              "      <th>1</th>\n",
              "      <td>2003</td>\n",
              "      <td>90</td>\n",
              "      <td>Pátzcuaro</td>\n",
              "      <td>2</td>\n",
              "      <td>Villa Escalante</td>\n",
              "      <td>9</td>\n",
              "      <td>Ario</td>\n",
              "      <td>3380.0</td>\n",
              "      <td>3380.0</td>\n",
              "      <td>0.0</td>\n",
              "      <td>22308.0</td>\n",
              "      <td>6.6</td>\n",
              "      <td>4900.0</td>\n",
              "      <td>109309200.0</td>\n",
              "    </tr>\n",
              "    <tr>\n",
              "      <th>2</th>\n",
              "      <td>2003</td>\n",
              "      <td>90</td>\n",
              "      <td>Pátzcuaro</td>\n",
              "      <td>2</td>\n",
              "      <td>Villa Escalante</td>\n",
              "      <td>9</td>\n",
              "      <td>Ario</td>\n",
              "      <td>2262.0</td>\n",
              "      <td>2262.0</td>\n",
              "      <td>0.0</td>\n",
              "      <td>28720.0</td>\n",
              "      <td>12.7</td>\n",
              "      <td>5100.0</td>\n",
              "      <td>146472000.0</td>\n",
              "    </tr>\n",
              "  </tbody>\n",
              "</table>\n",
              "</div>"
            ],
            "text/plain": [
              "   Anio  Idddr     Nomddr  ...  Rendimiento  Precio  Valorproduccion\n",
              "0  2003     90  Pátzcuaro  ...         12.8  4930.0      222126080.0\n",
              "1  2003     90  Pátzcuaro  ...          6.6  4900.0      109309200.0\n",
              "2  2003     90  Pátzcuaro  ...         12.7  5100.0      146472000.0\n",
              "\n",
              "[3 rows x 14 columns]"
            ]
          },
          "metadata": {
            "tags": []
          },
          "execution_count": 55
        }
      ]
    },
    {
      "cell_type": "markdown",
      "metadata": {
        "id": "YGwXIgYoHJpi"
      },
      "source": [
        "¡Listo! Guardemoslo"
      ]
    },
    {
      "cell_type": "code",
      "metadata": {
        "id": "P-TQaZU-HQzG"
      },
      "source": [
        "dfMich.to_csv(r'/dfMichoacan.csv', index = False)"
      ],
      "execution_count": null,
      "outputs": []
    }
  ]
}