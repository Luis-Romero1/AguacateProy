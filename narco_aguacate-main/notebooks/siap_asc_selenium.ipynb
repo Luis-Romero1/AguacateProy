{
  "nbformat": 4,
  "nbformat_minor": 0,
  "metadata": {
    "colab": {
      "name": "siap_asc_selenium.ipynb",
      "provenance": [],
      "collapsed_sections": [],
      "authorship_tag": "ABX9TyM70BZ079EeIIcEbXZDxoYm",
      "include_colab_link": true
    },
    "kernelspec": {
      "name": "python3",
      "display_name": "Python 3"
    }
  },
  "cells": [
    {
      "cell_type": "markdown",
      "metadata": {
        "id": "view-in-github",
        "colab_type": "text"
      },
      "source": [
        "<a href=\"https://colab.research.google.com/github/mnaR99/narco_aguacate/blob/main/notebooks/siap_asc_selenium.ipynb\" target=\"_parent\"><img src=\"https://colab.research.google.com/assets/colab-badge.svg\" alt=\"Open In Colab\"/></a>"
      ]
    },
    {
      "cell_type": "markdown",
      "metadata": {
        "id": "pIREq4whHeM_"
      },
      "source": [
        "# Producción mensual de aguacate de 2018 a 2020"
      ]
    },
    {
      "cell_type": "markdown",
      "metadata": {
        "id": "mvwB3Y5uKMky"
      },
      "source": [
        "WebScrapping usando selenium para modificar formularios desarrollados en javascript y extraer el código HTML de las tablas generadas en la consulta."
      ]
    },
    {
      "cell_type": "code",
      "metadata": {
        "id": "Lbv2YR0_AK5-"
      },
      "source": [
        "%%capture\r\n",
        "!pip install selenium\r\n",
        "!pip install pyjanitor\r\n",
        "!apt-get update \r\n",
        "!apt install chromium-chromedriver"
      ],
      "execution_count": 1,
      "outputs": []
    },
    {
      "cell_type": "markdown",
      "metadata": {
        "id": "rQZQfFhwHnwv"
      },
      "source": [
        "Configuración inicial para ejecutar Selenium desde un notebook."
      ]
    },
    {
      "cell_type": "code",
      "metadata": {
        "id": "FdnOzzuRAOJ4"
      },
      "source": [
        "%%capture\r\n",
        "from selenium import webdriver\r\n",
        "from selenium.webdriver.support.ui import Select\r\n",
        "import time\r\n",
        "\r\n",
        "chrome_options = webdriver.ChromeOptions()\r\n",
        "chrome_options.add_argument('--headless')\r\n",
        "chrome_options.add_argument('--no-sandbox')\r\n",
        "chrome_options.add_argument('--disable-dev-shm-usage')\r\n",
        "\r\n",
        "url = \"https://nube.siap.gob.mx/avance_agricola/\""
      ],
      "execution_count": 2,
      "outputs": []
    },
    {
      "cell_type": "markdown",
      "metadata": {
        "id": "V5rEXksmHwis"
      },
      "source": [
        "Obtención de datos de la Producción mensual de aguacate de 2018 a 2020 por entidad federativa."
      ]
    },
    {
      "cell_type": "code",
      "metadata": {
        "id": "6OuZtLIUAYgh"
      },
      "source": [
        "%%capture\r\n",
        "tbls_html = []\r\n",
        "\r\n",
        "web = webdriver.Chrome('chromedriver',chrome_options=chrome_options)\r\n",
        "web.get(url)\r\n",
        "\r\n",
        "time.sleep(0.7)\r\n",
        "cicloProd = Select(web.find_element_by_id(\"cicloProd\"))\r\n",
        "cicloProd.select_by_value(\"3\") # Código para Perennes\r\n",
        "\r\n",
        "time.sleep(0.7)\r\n",
        "modalidad = Select(web.find_element_by_id(\"modalidad\"))\r\n",
        "modalidad.select_by_value(\"3\") # Código para Riego + Temporal\r\n",
        "\r\n",
        "time.sleep(0.7)\r\n",
        "cultivo = Select(web.find_element_by_id(\"cultivo\"))\r\n",
        "cultivo.select_by_value(\"7\") # Código para Aguacate\r\n",
        "\r\n",
        "time.sleep(1)\r\n",
        "for anio in range(2018, 2021):\r\n",
        "  \r\n",
        "    time.sleep(0.8)\r\n",
        "    anioagric = Select(web.find_element_by_id(\"anioagric\"))\r\n",
        "    anioagric.select_by_value(str(anio))\r\n",
        "\r\n",
        "    for mes in range(1, 13):\r\n",
        "        time.sleep(0.8)\r\n",
        "        mesagric = Select(web.find_element_by_id(\"mesagric\"))\r\n",
        "        mesagric.select_by_value(str(mes))\r\n",
        "\r\n",
        "        time.sleep(0.8)\r\n",
        "        consultar = web.find_element_by_xpath('//*[contains(concat( \" \", @class, \" \" ), concat( \" \", \"pull-right\", \" \" ))]')\r\n",
        "        consultar.click() # Botón de consulta\r\n",
        "        \r\n",
        "        time.sleep(1)\r\n",
        "        tbl_html = web.find_element_by_id(\"Resultados-reporte\").get_attribute(\"outerHTML\")\r\n",
        "        tbls_html.append(tbl_html)\r\n",
        "\r\n",
        "time.sleep(0.5)\r\n",
        "web.close()"
      ],
      "execution_count": 3,
      "outputs": []
    },
    {
      "cell_type": "code",
      "metadata": {
        "id": "ROTOBxz5GQKb"
      },
      "source": [
        "f = open(\"tbls_html.txt\", \"w\")\r\n",
        "f.write(\"\\n\".join(tbls_html))\r\n",
        "f.close()"
      ],
      "execution_count": 4,
      "outputs": []
    },
    {
      "cell_type": "markdown",
      "metadata": {
        "id": "JQckQmSKH-i7"
      },
      "source": [
        "Obtención de datos de la Producción mensual de aguacate de 2018 a 2020 por municipio en Michoacán."
      ]
    },
    {
      "cell_type": "code",
      "metadata": {
        "id": "-gepTElqBYFA"
      },
      "source": [
        "%%capture\r\n",
        "tbls_mich_html = []\r\n",
        "\r\n",
        "web = webdriver.Chrome('chromedriver',chrome_options=chrome_options)\r\n",
        "web.get(url)\r\n",
        "\r\n",
        "time.sleep(2)\r\n",
        "mun = web.find_element_by_id('opcionDDRMpio4')\r\n",
        "mun.click()\r\n",
        "\r\n",
        "time.sleep(0.7)\r\n",
        "cicloProd = Select(web.find_element_by_id(\"cicloProd\"))\r\n",
        "cicloProd.select_by_value(\"3\") # Código para Perennes\r\n",
        "\r\n",
        "time.sleep(0.7)\r\n",
        "modalidad = Select(web.find_element_by_id(\"modalidad\"))\r\n",
        "modalidad.select_by_value(\"3\") # Código para Riego + Temporal\r\n",
        "\r\n",
        "time.sleep(0.7)\r\n",
        "entidad = Select(web.find_element_by_id(\"entidad\"))\r\n",
        "entidad.select_by_value(\"16\") # Código Michoacán\r\n",
        "\r\n",
        "time.sleep(0.7)\r\n",
        "cultivo = Select(web.find_element_by_id(\"cultivo\"))\r\n",
        "cultivo.select_by_value(\"7\") # Código para Aguacate\r\n",
        "\r\n",
        "time.sleep(1)\r\n",
        "for anio in range(2018, 2021):\r\n",
        "\r\n",
        "    time.sleep(0.8)\r\n",
        "    anioagric = Select(web.find_element_by_id(\"anioagric\"))\r\n",
        "    anioagric.select_by_value(str(anio))\r\n",
        "\r\n",
        "    for mes in range(1, 13):\r\n",
        "\r\n",
        "        time.sleep(0.8)\r\n",
        "        mesagric = Select(web.find_element_by_id(\"mesagric\"))\r\n",
        "        mesagric.select_by_value(str(mes))\r\n",
        "\r\n",
        "        time.sleep(0.8)\r\n",
        "        consultar = web.find_element_by_xpath('//*[contains(concat( \" \", @class, \" \" ), concat( \" \", \"pull-right\", \" \" ))]')\r\n",
        "        consultar.click() # Botón de consulta\r\n",
        "\r\n",
        "        time.sleep(1)\r\n",
        "        tbl_html = web.find_element_by_id(\"Resultados-reporte\").get_attribute(\"outerHTML\")\r\n",
        "        tbls_mich_html.append(tbl_html)\r\n",
        "\r\n",
        "time.sleep(0.5)\r\n",
        "web.close()"
      ],
      "execution_count": 5,
      "outputs": []
    },
    {
      "cell_type": "code",
      "metadata": {
        "id": "78FvNTVEGLp_"
      },
      "source": [
        "f = open(\"tbls_mich_html.txt\", \"w\")\r\n",
        "f.write(\"\\n\".join(tbls_mich_html))\r\n",
        "f.close()"
      ],
      "execution_count": 6,
      "outputs": []
    },
    {
      "cell_type": "markdown",
      "metadata": {
        "id": "8BpZLzKmFbgp"
      },
      "source": [
        "Lectura y limpieza de tablas consultadas por WebScrapping para la producción mensual de aguacate de aguacate de 2018 a 2020"
      ]
    },
    {
      "cell_type": "code",
      "metadata": {
        "id": "0gcB0XjuCxYD"
      },
      "source": [
        "import pandas as pd\r\n",
        "import itertools\r\n",
        "import janitor\r\n",
        "\r\n",
        "\r\n",
        "def clean_tbl(tbl, args):\r\n",
        "    anio, mes = args\r\n",
        "    tbl.columns = tbl.columns.droplevel()\r\n",
        "    tbl[\"Anio\"] = anio\r\n",
        "    tbl[\"Mes\"] = mes\r\n",
        "    return tbl\r\n",
        "\r\n",
        "\r\n",
        "def parse_html(path):\r\n",
        "    tbls = pd.read_html(path, index_col=0, encoding=\"utf-8\")\r\n",
        "    cp = itertools.product(range(2018, 2021), range(1, 13))\r\n",
        "\r\n",
        "    tbls = [*map(lambda pair: clean_tbl(pair[0], pair[1]), zip(tbls, [*cp]))]\r\n",
        "    tbl = pd.concat(tbls, ignore_index=True).clean_names()\r\n",
        "\r\n",
        "    return tbl"
      ],
      "execution_count": 7,
      "outputs": []
    },
    {
      "cell_type": "code",
      "metadata": {
        "colab": {
          "base_uri": "https://localhost:8080/"
        },
        "id": "drf29l3JGKES",
        "outputId": "f65559c8-a093-4baa-e9dc-84e95ccbf4e1"
      },
      "source": [
        "prodnac = parse_html(\"tbls_html.txt\")\r\n",
        "prodmic = parse_html(\"tbls_mich_html.txt\")\r\n",
        "\r\n",
        "print(prodnac, prodmic, sep=\"\\n\\n\")"
      ],
      "execution_count": 8,
      "outputs": [
        {
          "output_type": "stream",
          "text": [
            "                  entidad   sembrada  cosechada  ...  rendimiento_udm_ha_  anio  mes\n",
            "0          Aguascalientes      23.00       0.00  ...                 0.00  2018    1\n",
            "1         Baja California      46.75       0.00  ...                 0.00  2018    1\n",
            "2     Baja California Sur     168.00       0.00  ...                 0.00  2018    1\n",
            "3                Campeche      80.50       0.00  ...                 0.00  2018    1\n",
            "4                  Colima     773.50       0.00  ...                 0.00  2018    1\n",
            "...                   ...        ...        ...  ...                  ...   ...  ...\n",
            "1027             Tlaxcala      27.00      25.00  ...                 7.90  2020   12\n",
            "1028             Veracruz     897.00     684.00  ...                10.80  2020   12\n",
            "1029              Yucatán     523.28     400.32  ...                22.35  2020   12\n",
            "1030            Zacatecas      45.50      41.50  ...                 7.09  2020   12\n",
            "1031                Total  241140.11  224425.94  ...                10.64  2020   12\n",
            "\n",
            "[1032 rows x 8 columns]\n",
            "\n",
            "        entidad       municipio   sembrada  ...  rendimiento_udm_ha_  anio  mes\n",
            "0     Michoacán        Acuitzio    1901.00  ...                 1.02  2018    1\n",
            "1     Michoacán       Aguililla      57.00  ...                 3.20  2018    1\n",
            "2     Michoacán  Álvaro Obregón      11.00  ...                 0.00  2018    1\n",
            "3     Michoacán      Apatzingán     981.00  ...                 0.83  2018    1\n",
            "4     Michoacán          Aquila       5.00  ...                 0.75  2018    1\n",
            "...         ...             ...        ...  ...                  ...   ...  ...\n",
            "2323  Michoacán          Zacapu    3910.00  ...                 9.79  2020   12\n",
            "2324  Michoacán     Zinapécuaro     140.00  ...                 9.82  2020   12\n",
            "2325  Michoacán   Ziracuaretiro    5225.00  ...                11.02  2020   12\n",
            "2326  Michoacán       Zitácuaro    1325.00  ...                 9.44  2020   12\n",
            "2327      Total           Total  169939.45  ...                10.81  2020   12\n",
            "\n",
            "[2328 rows x 9 columns]\n"
          ],
          "name": "stdout"
        }
      ]
    },
    {
      "cell_type": "code",
      "metadata": {
        "id": "Qu8NhuP-DxrA"
      },
      "source": [
        "prodnac.to_csv(\"asc_entidad.csv\", index=False)\r\n",
        "prodmic.to_csv(\"asc_michoacan.csv\", index=False)"
      ],
      "execution_count": 9,
      "outputs": []
    }
  ]
}