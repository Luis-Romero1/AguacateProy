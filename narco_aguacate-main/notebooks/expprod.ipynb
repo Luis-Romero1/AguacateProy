{
  "nbformat": 4,
  "nbformat_minor": 0,
  "metadata": {
    "colab": {
      "name": "expprod.ipynb",
      "provenance": [],
      "mount_file_id": "1A4HJcogCO5MntFUqCVBzO_mIPuYmNxMA",
      "authorship_tag": "ABX9TyO84RDTVSlzebyj0/WvC+6h",
      "include_colab_link": true
    },
    "kernelspec": {
      "name": "python3",
      "display_name": "Python 3"
    }
  },
  "cells": [
    {
      "cell_type": "markdown",
      "metadata": {
        "id": "view-in-github",
        "colab_type": "text"
      },
      "source": [
        "<a href=\"https://colab.research.google.com/github/mnaR99/narco_aguacate/blob/main/notebooks/expprod.ipynb\" target=\"_parent\"><img src=\"https://colab.research.google.com/assets/colab-badge.svg\" alt=\"Open In Colab\"/></a>"
      ]
    },
    {
      "cell_type": "code",
      "metadata": {
        "id": "dLUr_60rhwI4"
      },
      "source": [
        "import pandas as pd\r\n",
        "import seaborn as sns\r\n",
        "\r\n",
        "sns.set_context(\"paper\", font_scale=0.8)"
      ],
      "execution_count": 1,
      "outputs": []
    },
    {
      "cell_type": "markdown",
      "metadata": {
        "id": "4RIj4J_d5OIe"
      },
      "source": [
        "# Producción mensual de aguacate (2018 a 2020)\r\n",
        "\r\n",
        "\r\n",
        "\r\n",
        "\r\n",
        "\r\n"
      ]
    },
    {
      "cell_type": "code",
      "metadata": {
        "colab": {
          "base_uri": "https://localhost:8080/"
        },
        "id": "2e26UpW2h0hU",
        "outputId": "3b6c82ba-2c99-40f1-c95f-727ad7fd027a"
      },
      "source": [
        "asc = pd.read_csv(\"https://raw.githubusercontent.com/mnaR99/narco_aguacate/main/data/processed/asc_entidad.csv\")\r\n",
        "asc.dtypes"
      ],
      "execution_count": 2,
      "outputs": [
        {
          "output_type": "execute_result",
          "data": {
            "text/plain": [
              "entidad                 object\n",
              "sembrada               float64\n",
              "cosechada              float64\n",
              "siniestrada            float64\n",
              "produccion             float64\n",
              "rendimiento_udm_ha_    float64\n",
              "anio                     int64\n",
              "mes                      int64\n",
              "dtype: object"
            ]
          },
          "metadata": {
            "tags": []
          },
          "execution_count": 2
        }
      ]
    },
    {
      "cell_type": "markdown",
      "metadata": {
        "id": "Vf9kmLDJ7kss"
      },
      "source": [
        "En esta primer instancia sólo nos interesa conocer la proporción de la producción de aguacate que se exporta, por lo que se filtra esta base al `Total` nacional."
      ]
    },
    {
      "cell_type": "code",
      "metadata": {
        "colab": {
          "base_uri": "https://localhost:8080/",
          "height": 195
        },
        "id": "QA6rgblIiAIN",
        "outputId": "a21b143b-77f9-46b8-f096-1e196ec0dd19"
      },
      "source": [
        "prod = asc[asc.entidad == \"Total\"].reset_index(drop=True)\n",
        "prod.head()"
      ],
      "execution_count": 3,
      "outputs": [
        {
          "output_type": "execute_result",
          "data": {
            "text/html": [
              "<div>\n",
              "<style scoped>\n",
              "    .dataframe tbody tr th:only-of-type {\n",
              "        vertical-align: middle;\n",
              "    }\n",
              "\n",
              "    .dataframe tbody tr th {\n",
              "        vertical-align: top;\n",
              "    }\n",
              "\n",
              "    .dataframe thead th {\n",
              "        text-align: right;\n",
              "    }\n",
              "</style>\n",
              "<table border=\"1\" class=\"dataframe\">\n",
              "  <thead>\n",
              "    <tr style=\"text-align: right;\">\n",
              "      <th></th>\n",
              "      <th>entidad</th>\n",
              "      <th>sembrada</th>\n",
              "      <th>cosechada</th>\n",
              "      <th>siniestrada</th>\n",
              "      <th>produccion</th>\n",
              "      <th>rendimiento_udm_ha_</th>\n",
              "      <th>anio</th>\n",
              "      <th>mes</th>\n",
              "    </tr>\n",
              "  </thead>\n",
              "  <tbody>\n",
              "    <tr>\n",
              "      <th>0</th>\n",
              "      <td>Total</td>\n",
              "      <td>231028.04</td>\n",
              "      <td>150742.03</td>\n",
              "      <td>0.0</td>\n",
              "      <td>183809.67</td>\n",
              "      <td>1.22</td>\n",
              "      <td>2018</td>\n",
              "      <td>1</td>\n",
              "    </tr>\n",
              "    <tr>\n",
              "      <th>1</th>\n",
              "      <td>Total</td>\n",
              "      <td>231028.04</td>\n",
              "      <td>155620.44</td>\n",
              "      <td>0.0</td>\n",
              "      <td>381600.48</td>\n",
              "      <td>2.45</td>\n",
              "      <td>2018</td>\n",
              "      <td>2</td>\n",
              "    </tr>\n",
              "    <tr>\n",
              "      <th>2</th>\n",
              "      <td>Total</td>\n",
              "      <td>231028.04</td>\n",
              "      <td>158124.14</td>\n",
              "      <td>0.0</td>\n",
              "      <td>564061.31</td>\n",
              "      <td>3.57</td>\n",
              "      <td>2018</td>\n",
              "      <td>3</td>\n",
              "    </tr>\n",
              "    <tr>\n",
              "      <th>3</th>\n",
              "      <td>Total</td>\n",
              "      <td>231028.04</td>\n",
              "      <td>167504.95</td>\n",
              "      <td>0.0</td>\n",
              "      <td>738169.11</td>\n",
              "      <td>4.41</td>\n",
              "      <td>2018</td>\n",
              "      <td>4</td>\n",
              "    </tr>\n",
              "    <tr>\n",
              "      <th>4</th>\n",
              "      <td>Total</td>\n",
              "      <td>231028.04</td>\n",
              "      <td>170970.89</td>\n",
              "      <td>0.0</td>\n",
              "      <td>893429.57</td>\n",
              "      <td>5.23</td>\n",
              "      <td>2018</td>\n",
              "      <td>5</td>\n",
              "    </tr>\n",
              "  </tbody>\n",
              "</table>\n",
              "</div>"
            ],
            "text/plain": [
              "  entidad   sembrada  cosechada  ...  rendimiento_udm_ha_  anio  mes\n",
              "0   Total  231028.04  150742.03  ...                 1.22  2018    1\n",
              "1   Total  231028.04  155620.44  ...                 2.45  2018    2\n",
              "2   Total  231028.04  158124.14  ...                 3.57  2018    3\n",
              "3   Total  231028.04  167504.95  ...                 4.41  2018    4\n",
              "4   Total  231028.04  170970.89  ...                 5.23  2018    5\n",
              "\n",
              "[5 rows x 8 columns]"
            ]
          },
          "metadata": {
            "tags": []
          },
          "execution_count": 3
        }
      ]
    },
    {
      "cell_type": "markdown",
      "metadata": {
        "id": "_VREPiYw72qE"
      },
      "source": [
        "Para efectos de visualización se crea una variable de tipo fecha para que los datos sean presentados de manera correcta."
      ]
    },
    {
      "cell_type": "code",
      "metadata": {
        "colab": {
          "base_uri": "https://localhost:8080/",
          "height": 302
        },
        "id": "ziO35fYxnBRP",
        "outputId": "3e73dd5c-5946-404a-ee14-3feac03052dc"
      },
      "source": [
        "prod[\"anio_mes\"] = pd.to_datetime(prod[\"anio\"].astype(str) + \"-\" + prod[\"mes\"].astype(str))\r\n",
        "sns.lineplot(data=prod, x=\"anio_mes\", y=\"produccion\")"
      ],
      "execution_count": 4,
      "outputs": [
        {
          "output_type": "execute_result",
          "data": {
            "text/plain": [
              "<matplotlib.axes._subplots.AxesSubplot at 0x7f42e1ae0350>"
            ]
          },
          "metadata": {
            "tags": []
          },
          "execution_count": 4
        },
        {
          "output_type": "display_data",
          "data": {
            "image/png": "[encoded data removed]",
            "text/plain": [
              "<Figure size 432x288 with 1 Axes>"
            ]
          },
          "metadata": {
            "tags": [],
            "needs_background": "light"
          }
        }
      ]
    },
    {
      "cell_type": "markdown",
      "metadata": {
        "id": "5pLmzX0W8QKy"
      },
      "source": [
        "A partir de este gráfico nos podemos dar cuenta de que la variable de producción tiene lo que se va acumulando hasta el fin de año, por lo que se procede a calcular la producción mensual (en kg dado que las exportaciones así lo están) con diferencias."
      ]
    },
    {
      "cell_type": "code",
      "metadata": {
        "colab": {
          "base_uri": "https://localhost:8080/",
          "height": 302
        },
        "id": "aZe69tIYio05",
        "outputId": "b3fd30c3-5b1f-4fa4-a6a5-f8d632be9fb0"
      },
      "source": [
        "prod[\"prod_mes_kg\"] = prod.groupby('anio')['produccion'].transform(lambda x: (x - x.shift(fill_value = 0)) * 1000)\r\n",
        "sns.lineplot(data=prod, x=\"anio_mes\", y=\"prod_mes_kg\")"
      ],
      "execution_count": 5,
      "outputs": [
        {
          "output_type": "execute_result",
          "data": {
            "text/plain": [
              "<matplotlib.axes._subplots.AxesSubplot at 0x7f42e0f4cc50>"
            ]
          },
          "metadata": {
            "tags": []
          },
          "execution_count": 5
        },
        {
          "output_type": "display_data",
          "data": {
            "image/png": "[encoded data removed]",
            "text/plain": [
              "<Figure size 432x288 with 1 Axes>"
            ]
          },
          "metadata": {
            "tags": [],
            "needs_background": "light"
          }
        }
      ]
    },
    {
      "cell_type": "markdown",
      "metadata": {
        "id": "gw04me295ZS-"
      },
      "source": [
        "# Exportaciones mensuales (2003 a 2020)"
      ]
    },
    {
      "cell_type": "code",
      "metadata": {
        "colab": {
          "base_uri": "https://localhost:8080/",
          "height": 402
        },
        "id": "EfePo9TVs6Ef",
        "outputId": "9bb93128-80c5-49b5-8afc-30c27365baf2"
      },
      "source": [
        "exportaciones = pd.read_csv(\"https://raw.githubusercontent.com/mnaR99/narco_aguacate/main/data/processed/exportaciones_mensuales.csv\")\r\n",
        "exportaciones"
      ],
      "execution_count": 6,
      "outputs": [
        {
          "output_type": "execute_result",
          "data": {
            "text/html": [
              "<div>\n",
              "<style scoped>\n",
              "    .dataframe tbody tr th:only-of-type {\n",
              "        vertical-align: middle;\n",
              "    }\n",
              "\n",
              "    .dataframe tbody tr th {\n",
              "        vertical-align: top;\n",
              "    }\n",
              "\n",
              "    .dataframe thead th {\n",
              "        text-align: right;\n",
              "    }\n",
              "</style>\n",
              "<table border=\"1\" class=\"dataframe\">\n",
              "  <thead>\n",
              "    <tr style=\"text-align: right;\">\n",
              "      <th></th>\n",
              "      <th>tipo</th>\n",
              "      <th>pais</th>\n",
              "      <th>anio</th>\n",
              "      <th>mes</th>\n",
              "      <th>unidades</th>\n",
              "    </tr>\n",
              "  </thead>\n",
              "  <tbody>\n",
              "    <tr>\n",
              "      <th>0</th>\n",
              "      <td>USD</td>\n",
              "      <td>Total</td>\n",
              "      <td>2003</td>\n",
              "      <td>enero</td>\n",
              "      <td>16325868</td>\n",
              "    </tr>\n",
              "    <tr>\n",
              "      <th>1</th>\n",
              "      <td>USD</td>\n",
              "      <td>Estados Unidos de America</td>\n",
              "      <td>2003</td>\n",
              "      <td>enero</td>\n",
              "      <td>7368585</td>\n",
              "    </tr>\n",
              "    <tr>\n",
              "      <th>2</th>\n",
              "      <td>USD</td>\n",
              "      <td>El Salvador (República de )</td>\n",
              "      <td>2003</td>\n",
              "      <td>enero</td>\n",
              "      <td>1674407</td>\n",
              "    </tr>\n",
              "    <tr>\n",
              "      <th>3</th>\n",
              "      <td>USD</td>\n",
              "      <td>Japon</td>\n",
              "      <td>2003</td>\n",
              "      <td>enero</td>\n",
              "      <td>2290553</td>\n",
              "    </tr>\n",
              "    <tr>\n",
              "      <th>4</th>\n",
              "      <td>USD</td>\n",
              "      <td>Francia</td>\n",
              "      <td>2003</td>\n",
              "      <td>enero</td>\n",
              "      <td>1716184</td>\n",
              "    </tr>\n",
              "    <tr>\n",
              "      <th>...</th>\n",
              "      <td>...</td>\n",
              "      <td>...</td>\n",
              "      <td>...</td>\n",
              "      <td>...</td>\n",
              "      <td>...</td>\n",
              "    </tr>\n",
              "    <tr>\n",
              "      <th>11635</th>\n",
              "      <td>Kg</td>\n",
              "      <td>Belice</td>\n",
              "      <td>2020</td>\n",
              "      <td>diciembre</td>\n",
              "      <td>0</td>\n",
              "    </tr>\n",
              "    <tr>\n",
              "      <th>11636</th>\n",
              "      <td>Kg</td>\n",
              "      <td>Bulgaria (República de)</td>\n",
              "      <td>2020</td>\n",
              "      <td>diciembre</td>\n",
              "      <td>0</td>\n",
              "    </tr>\n",
              "    <tr>\n",
              "      <th>11637</th>\n",
              "      <td>Kg</td>\n",
              "      <td>Irlanda (República de)</td>\n",
              "      <td>2020</td>\n",
              "      <td>diciembre</td>\n",
              "      <td>0</td>\n",
              "    </tr>\n",
              "    <tr>\n",
              "      <th>11638</th>\n",
              "      <td>Kg</td>\n",
              "      <td>Suecia (Reino de)</td>\n",
              "      <td>2020</td>\n",
              "      <td>diciembre</td>\n",
              "      <td>0</td>\n",
              "    </tr>\n",
              "    <tr>\n",
              "      <th>11639</th>\n",
              "      <td>Kg</td>\n",
              "      <td>Venezuela (República de)</td>\n",
              "      <td>2020</td>\n",
              "      <td>diciembre</td>\n",
              "      <td>0</td>\n",
              "    </tr>\n",
              "  </tbody>\n",
              "</table>\n",
              "<p>11640 rows × 5 columns</p>\n",
              "</div>"
            ],
            "text/plain": [
              "      tipo                         pais  anio        mes  unidades\n",
              "0      USD                        Total  2003      enero  16325868\n",
              "1      USD    Estados Unidos de America  2003      enero   7368585\n",
              "2      USD  El Salvador (República de )  2003      enero   1674407\n",
              "3      USD                        Japon  2003      enero   2290553\n",
              "4      USD                      Francia  2003      enero   1716184\n",
              "...    ...                          ...   ...        ...       ...\n",
              "11635   Kg                       Belice  2020  diciembre         0\n",
              "11636   Kg      Bulgaria (República de)  2020  diciembre         0\n",
              "11637   Kg       Irlanda (República de)  2020  diciembre         0\n",
              "11638   Kg            Suecia (Reino de)  2020  diciembre         0\n",
              "11639   Kg     Venezuela (República de)  2020  diciembre         0\n",
              "\n",
              "[11640 rows x 5 columns]"
            ]
          },
          "metadata": {
            "tags": []
          },
          "execution_count": 6
        }
      ]
    },
    {
      "cell_type": "markdown",
      "metadata": {
        "id": "ZxfYK8t18tLR"
      },
      "source": [
        "De esta prevsiualización de los datos se observa lo siguiente:\r\n",
        "\r\n",
        "* Sólo nos interesa la información por Kg\r\n",
        "* Nos interesa el total de lo que se exporta\r\n",
        "* Los meses tienen formato textual, por lo que deben ser transformados"
      ]
    },
    {
      "cell_type": "code",
      "metadata": {
        "colab": {
          "base_uri": "https://localhost:8080/",
          "height": 195
        },
        "id": "_y-SW8YQtHlX",
        "outputId": "d0e598d2-775d-4a12-d1b5-e9448a92dc40"
      },
      "source": [
        "expKg = exportaciones[(exportaciones.tipo == \"Kg\") & (exportaciones.pais == \"Total\")].reset_index(drop=True)\r\n",
        "\r\n",
        "mes_num = {\"enero\": 1, \"febrero\": 2, \"marzo\": 3, \"abril\": 4, \"mayo\": 5, \r\n",
        "           \"junio\": 6, \"julio\": 7, \"agosto\": 8, \"septiembre\": 9, \"octubre\": 10, \r\n",
        "           \"noviembre\": 11, \"diciembre\": 12}\r\n",
        "\r\n",
        "expKg.mes = expKg.mes.map(mes_num)\r\n",
        "\r\n",
        "expKg.head()"
      ],
      "execution_count": 10,
      "outputs": [
        {
          "output_type": "execute_result",
          "data": {
            "text/html": [
              "<div>\n",
              "<style scoped>\n",
              "    .dataframe tbody tr th:only-of-type {\n",
              "        vertical-align: middle;\n",
              "    }\n",
              "\n",
              "    .dataframe tbody tr th {\n",
              "        vertical-align: top;\n",
              "    }\n",
              "\n",
              "    .dataframe thead th {\n",
              "        text-align: right;\n",
              "    }\n",
              "</style>\n",
              "<table border=\"1\" class=\"dataframe\">\n",
              "  <thead>\n",
              "    <tr style=\"text-align: right;\">\n",
              "      <th></th>\n",
              "      <th>tipo</th>\n",
              "      <th>pais</th>\n",
              "      <th>anio</th>\n",
              "      <th>mes</th>\n",
              "      <th>unidades</th>\n",
              "    </tr>\n",
              "  </thead>\n",
              "  <tbody>\n",
              "    <tr>\n",
              "      <th>0</th>\n",
              "      <td>Kg</td>\n",
              "      <td>Total</td>\n",
              "      <td>2003</td>\n",
              "      <td>1</td>\n",
              "      <td>11361990</td>\n",
              "    </tr>\n",
              "    <tr>\n",
              "      <th>1</th>\n",
              "      <td>Kg</td>\n",
              "      <td>Total</td>\n",
              "      <td>2003</td>\n",
              "      <td>2</td>\n",
              "      <td>12729014</td>\n",
              "    </tr>\n",
              "    <tr>\n",
              "      <th>2</th>\n",
              "      <td>Kg</td>\n",
              "      <td>Total</td>\n",
              "      <td>2003</td>\n",
              "      <td>3</td>\n",
              "      <td>14634592</td>\n",
              "    </tr>\n",
              "    <tr>\n",
              "      <th>3</th>\n",
              "      <td>Kg</td>\n",
              "      <td>Total</td>\n",
              "      <td>2003</td>\n",
              "      <td>4</td>\n",
              "      <td>11381261</td>\n",
              "    </tr>\n",
              "    <tr>\n",
              "      <th>4</th>\n",
              "      <td>Kg</td>\n",
              "      <td>Total</td>\n",
              "      <td>2003</td>\n",
              "      <td>5</td>\n",
              "      <td>4510600</td>\n",
              "    </tr>\n",
              "  </tbody>\n",
              "</table>\n",
              "</div>"
            ],
            "text/plain": [
              "  tipo   pais  anio  mes  unidades\n",
              "0   Kg  Total  2003    1  11361990\n",
              "1   Kg  Total  2003    2  12729014\n",
              "2   Kg  Total  2003    3  14634592\n",
              "3   Kg  Total  2003    4  11381261\n",
              "4   Kg  Total  2003    5   4510600"
            ]
          },
          "metadata": {
            "tags": []
          },
          "execution_count": 10
        }
      ]
    },
    {
      "cell_type": "markdown",
      "metadata": {
        "id": "d86s_vy99NBu"
      },
      "source": [
        "Unimos las bases por año y mes, para poder comparar las exportaciones y producciones mensuales."
      ]
    },
    {
      "cell_type": "code",
      "metadata": {
        "colab": {
          "base_uri": "https://localhost:8080/",
          "height": 195
        },
        "id": "y2OjfCHFuwm4",
        "outputId": "22a2438c-37cf-461f-f750-bae1cd35bb79"
      },
      "source": [
        "expprod = expKg.merge(prod, on=[\"anio\",\"mes\"])\r\n",
        "expprod.head()"
      ],
      "execution_count": 16,
      "outputs": [
        {
          "output_type": "execute_result",
          "data": {
            "text/html": [
              "<div>\n",
              "<style scoped>\n",
              "    .dataframe tbody tr th:only-of-type {\n",
              "        vertical-align: middle;\n",
              "    }\n",
              "\n",
              "    .dataframe tbody tr th {\n",
              "        vertical-align: top;\n",
              "    }\n",
              "\n",
              "    .dataframe thead th {\n",
              "        text-align: right;\n",
              "    }\n",
              "</style>\n",
              "<table border=\"1\" class=\"dataframe\">\n",
              "  <thead>\n",
              "    <tr style=\"text-align: right;\">\n",
              "      <th></th>\n",
              "      <th>tipo</th>\n",
              "      <th>pais</th>\n",
              "      <th>anio</th>\n",
              "      <th>mes</th>\n",
              "      <th>unidades</th>\n",
              "      <th>entidad</th>\n",
              "      <th>sembrada</th>\n",
              "      <th>cosechada</th>\n",
              "      <th>siniestrada</th>\n",
              "      <th>produccion</th>\n",
              "      <th>rendimiento_udm_ha_</th>\n",
              "      <th>anio_mes</th>\n",
              "      <th>prod_mes_kg</th>\n",
              "    </tr>\n",
              "  </thead>\n",
              "  <tbody>\n",
              "    <tr>\n",
              "      <th>0</th>\n",
              "      <td>Kg</td>\n",
              "      <td>Total</td>\n",
              "      <td>2018</td>\n",
              "      <td>1</td>\n",
              "      <td>132895571</td>\n",
              "      <td>Total</td>\n",
              "      <td>231028.04</td>\n",
              "      <td>150742.03</td>\n",
              "      <td>0.0</td>\n",
              "      <td>183809.67</td>\n",
              "      <td>1.22</td>\n",
              "      <td>2018-01-01</td>\n",
              "      <td>183809670.0</td>\n",
              "    </tr>\n",
              "    <tr>\n",
              "      <th>1</th>\n",
              "      <td>Kg</td>\n",
              "      <td>Total</td>\n",
              "      <td>2018</td>\n",
              "      <td>2</td>\n",
              "      <td>101633108</td>\n",
              "      <td>Total</td>\n",
              "      <td>231028.04</td>\n",
              "      <td>155620.44</td>\n",
              "      <td>0.0</td>\n",
              "      <td>381600.48</td>\n",
              "      <td>2.45</td>\n",
              "      <td>2018-02-01</td>\n",
              "      <td>197790810.0</td>\n",
              "    </tr>\n",
              "    <tr>\n",
              "      <th>2</th>\n",
              "      <td>Kg</td>\n",
              "      <td>Total</td>\n",
              "      <td>2018</td>\n",
              "      <td>3</td>\n",
              "      <td>116491762</td>\n",
              "      <td>Total</td>\n",
              "      <td>231028.04</td>\n",
              "      <td>158124.14</td>\n",
              "      <td>0.0</td>\n",
              "      <td>564061.31</td>\n",
              "      <td>3.57</td>\n",
              "      <td>2018-03-01</td>\n",
              "      <td>182460830.0</td>\n",
              "    </tr>\n",
              "    <tr>\n",
              "      <th>3</th>\n",
              "      <td>Kg</td>\n",
              "      <td>Total</td>\n",
              "      <td>2018</td>\n",
              "      <td>4</td>\n",
              "      <td>109410096</td>\n",
              "      <td>Total</td>\n",
              "      <td>231028.04</td>\n",
              "      <td>167504.95</td>\n",
              "      <td>0.0</td>\n",
              "      <td>738169.11</td>\n",
              "      <td>4.41</td>\n",
              "      <td>2018-04-01</td>\n",
              "      <td>174107800.0</td>\n",
              "    </tr>\n",
              "    <tr>\n",
              "      <th>4</th>\n",
              "      <td>Kg</td>\n",
              "      <td>Total</td>\n",
              "      <td>2018</td>\n",
              "      <td>5</td>\n",
              "      <td>99170739</td>\n",
              "      <td>Total</td>\n",
              "      <td>231028.04</td>\n",
              "      <td>170970.89</td>\n",
              "      <td>0.0</td>\n",
              "      <td>893429.57</td>\n",
              "      <td>5.23</td>\n",
              "      <td>2018-05-01</td>\n",
              "      <td>155260460.0</td>\n",
              "    </tr>\n",
              "  </tbody>\n",
              "</table>\n",
              "</div>"
            ],
            "text/plain": [
              "  tipo   pais  anio  ...  rendimiento_udm_ha_   anio_mes  prod_mes_kg\n",
              "0   Kg  Total  2018  ...                 1.22 2018-01-01  183809670.0\n",
              "1   Kg  Total  2018  ...                 2.45 2018-02-01  197790810.0\n",
              "2   Kg  Total  2018  ...                 3.57 2018-03-01  182460830.0\n",
              "3   Kg  Total  2018  ...                 4.41 2018-04-01  174107800.0\n",
              "4   Kg  Total  2018  ...                 5.23 2018-05-01  155260460.0\n",
              "\n",
              "[5 rows x 13 columns]"
            ]
          },
          "metadata": {
            "tags": []
          },
          "execution_count": 16
        }
      ]
    },
    {
      "cell_type": "code",
      "metadata": {
        "id": "Tn9XbUlLcGAh",
        "outputId": "db0850f6-f0b2-4b5b-a13b-7b326eb01914",
        "colab": {
          "base_uri": "https://localhost:8080/",
          "height": 302
        }
      },
      "source": [
        "sns.scatterplot(data=expprod, x=\"prod_mes_kg\", y=\"unidades\")"
      ],
      "execution_count": 17,
      "outputs": [
        {
          "output_type": "execute_result",
          "data": {
            "text/plain": [
              "<matplotlib.axes._subplots.AxesSubplot at 0x7f42e0785850>"
            ]
          },
          "metadata": {
            "tags": []
          },
          "execution_count": 17
        },
        {
          "output_type": "display_data",
          "data": {
            "image/png": "[encoded data removed]",
            "text/plain": [
              "<Figure size 432x288 with 1 Axes>"
            ]
          },
          "metadata": {
            "tags": [],
            "needs_background": "light"
          }
        }
      ]
    },
    {
      "cell_type": "code",
      "metadata": {
        "colab": {
          "base_uri": "https://localhost:8080/",
          "height": 294
        },
        "id": "KS5Qh3yKv8SB",
        "outputId": "90404209-25f9-4c33-a3eb-749c9ad63898"
      },
      "source": [
        "expprod[\"prop_exp\"] = expprod.unidades / expprod.prod_mes_kg * 100\r\n",
        "sns.lineplot(data=expprod, x=\"anio_mes\", y=\"prop_exp\")"
      ],
      "execution_count": 12,
      "outputs": [
        {
          "output_type": "execute_result",
          "data": {
            "text/plain": [
              "<matplotlib.axes._subplots.AxesSubplot at 0x7f42e085e050>"
            ]
          },
          "metadata": {
            "tags": []
          },
          "execution_count": 12
        },
        {
          "output_type": "display_data",
          "data": {
            "image/png": "[encoded data removed]",
            "text/plain": [
              "<Figure size 432x288 with 1 Axes>"
            ]
          },
          "metadata": {
            "tags": [],
            "needs_background": "light"
          }
        }
      ]
    },
    {
      "cell_type": "markdown",
      "metadata": {
        "id": "KwwzsTio9W7A"
      },
      "source": [
        "La serie muestra un comportamiento a primera vista estacionario, por lo que usar esta serie para poder pronosticar datos anteriores o futuros puede ser útil."
      ]
    }
  ]
}